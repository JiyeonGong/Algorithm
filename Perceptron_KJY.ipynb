{
 "cells": [
  {
   "cell_type": "code",
   "execution_count": 2,
   "id": "996abb56",
   "metadata": {},
   "outputs": [],
   "source": [
    "import numpy as np\n",
    "import matplotlib.pyplot as plt"
   ]
  },
  {
   "cell_type": "markdown",
   "id": "9c0e08b2",
   "metadata": {},
   "source": [
    "## 초기화"
   ]
  },
  {
   "cell_type": "code",
   "execution_count": 62,
   "id": "d3f90556",
   "metadata": {},
   "outputs": [],
   "source": [
    "def Perceptron(x1, x2):\n",
    "    #임의의 가중치 설정([-0.5, 0,5]구간의 임의의 값으로 설정.)\n",
    "    w1,w2 = 0.5, 0.5\n",
    "    \n",
    "    #임의의 임계값 theta 설정.\n",
    "    theta = 0.1\n",
    "    \n",
    "    #출력값 y\n",
    "    y = w1*x1 + w2*x2\n",
    "    \n",
    "    return y, y >= theta"
   ]
  },
  {
   "cell_type": "markdown",
   "id": "43f704dd",
   "metadata": {},
   "source": [
    "## 활성화 - 계단 활성화 함수로 출력."
   ]
  },
  {
   "cell_type": "code",
   "execution_count": 63,
   "id": "baed29eb",
   "metadata": {},
   "outputs": [
    {
     "data": {
      "image/png": "[encoded data removed]",
      "text/plain": [
       "<Figure size 432x288 with 1 Axes>"
      ]
     },
     "metadata": {
      "needs_background": "light"
     },
     "output_type": "display_data"
    }
   ],
   "source": [
    "x1 = np.linspace(-3, 3, 100)\n",
    "x2 = np.linspace(-3, 3, 100)\n",
    "\n",
    "y_value, y_result = Perceptron(x1,x2)\n",
    "\n",
    "plt.plot(y_value, y_result)\n",
    "plt.yticks([0,1])\n",
    "plt.xticks([-3,0,3], [r'-$\\infty$', r'$theta$',r'-$\\infty$'])\n",
    "plt.xlabel(r\"$w1*x1 + w2*x2$\")\n",
    "plt.ylabel(r\"$y$\", rotation = 0)\n",
    "plt.show()"
   ]
  },
  {
   "cell_type": "code",
   "execution_count": 123,
   "id": "8f5c7a76",
   "metadata": {
    "scrolled": true
   },
   "outputs": [
    {
     "name": "stdout",
     "output_type": "stream",
     "text": [
      "0 1 1 1\n"
     ]
    }
   ],
   "source": [
    "## 편향과 가중치를 도입하지 않았을 때.\n",
    "def AND(x1, x2):\n",
    "    w1,w2 = 0.5, 0.5\n",
    "    theta = 0.1\n",
    "    \n",
    "    #출력값 y\n",
    "    y = w1*x1 + w2*x2\n",
    "    \n",
    "    if y <= theta :\n",
    "        return 0\n",
    "    elif y > theta:\n",
    "        return 1\n",
    "   \n",
    "    print (\"최종 가중치\")\n",
    "    print (y)\n",
    "    \n",
    "    \n",
    "print(AND(0,0), AND(1,0), AND(0,1), AND(1,1))"
   ]
  },
  {
   "cell_type": "markdown",
   "id": "457172c4",
   "metadata": {},
   "source": [
    "## 편향과 가중치를 도입해야 하는 이유.\n",
    "가중치는 입력괎에 대한 중요도를 나타내고, 각각의 입력값이 출력값에 얼마나 영향을 미치게 할 것인가를 의미한다.\n",
    "- 가중치가 크다 : 입력값이 출력값에 영향을 많이 끼친다.\n",
    "- 가중치가 작다 : 입력값이 출력값에 영향을 거의 받지 않는다.\n",
    "\n",
    "편향은 퍼셉트론이 얼마나 쉽게 활성화 되는가를 결정해 준다.\n",
    "보통 '활성화' 되었다는 퍼셉트론이 결과물이 1이 되면 활성화 되었다고 한다.\n",
    "- 편향이 클 때 : 퍼셉트론의 흥분도가 커져 쉽게 활성화 된다.(민감)\n",
    "- 편향이 작을 때 : 퍼셉트론의 흥분도가 낮아져서 활성화가 잘 안된다.(둔감)"
   ]
  },
  {
   "cell_type": "code",
   "execution_count": 75,
   "id": "2160535d",
   "metadata": {
    "scrolled": true
   },
   "outputs": [
    {
     "name": "stdout",
     "output_type": "stream",
     "text": [
      "행렬 곱 : [0.  0.5]\n",
      "각 원소의 곱을 합한 결과 : 0.5\n",
      "편향 추가 계산 : 0.4\n"
     ]
    }
   ],
   "source": [
    "x = np.array([0,1])\n",
    "w = np.array([0.5,0.5])\n",
    "b = -0.1 #편향\n",
    "\n",
    "print(\"행렬 곱 : {}\".format(w*x))\n",
    "print(\"각 원소의 곱을 합한 결과 : {}\".format(np.sum(w*x)))\n",
    "print(\"편향 추가 계산 : {:.1f}\".format(np.sum(w*x) + b))"
   ]
  },
  {
   "cell_type": "code",
   "execution_count": 136,
   "id": "c51519e9",
   "metadata": {},
   "outputs": [
    {
     "name": "stdout",
     "output_type": "stream",
     "text": [
      "< AND gate results >\n",
      "최종 가중치\n",
      "-0.1\n",
      "최종 가중치\n",
      "0.4\n",
      "최종 가중치\n",
      "0.4\n",
      "최종 가중치\n",
      "0.9\n",
      "0 1 1 1\n"
     ]
    }
   ],
   "source": [
    "def AND(x1, x2):\n",
    "    x = np.array([x1,x2]) #입력값\n",
    "    w = np.array([0.5,0.5]) #가중치\n",
    "    b = -0.1 #편향\n",
    "    \n",
    "    #출력값 y\n",
    "    y = np.sum(w*x) + b\n",
    "    \n",
    "    print (\"최종 가중치\")\n",
    "    print (y)\n",
    "    return int(y>0)\n",
    " \n",
    "print(\"< AND gate results >\")\n",
    "print(AND(0,0), AND(1,0), AND(0,1), AND(1,1))"
   ]
  },
  {
   "cell_type": "code",
   "execution_count": 139,
   "id": "2a17e215",
   "metadata": {
    "scrolled": true
   },
   "outputs": [
    {
     "name": "stdout",
     "output_type": "stream",
     "text": [
      "< OR gate results >\n",
      "최종 가중치\n",
      "0.4\n",
      "최종 가중치\n",
      "0.9\n",
      "최종 가중치\n",
      "0.9\n",
      "최종 가중치\n",
      "1.4\n",
      "1 1 1 1\n"
     ]
    }
   ],
   "source": [
    "def OR(x1, x2):\n",
    "    x = np.array([x1,x2])\n",
    "    w = np.array([0.5,0.5])\n",
    "    b = 0.4 \n",
    "    \n",
    "    #출력값 y\n",
    "    y = np.sum(w*x) + b\n",
    "    \n",
    "    print (\"최종 가중치\")\n",
    "    print (y)\n",
    "    \n",
    "    if y <= 0 :\n",
    "        return 0\n",
    "    else : \n",
    "        return 1 \n",
    "\n",
    "print(\"< OR gate results >\")\n",
    "print(OR(0,0), OR(1,0), OR(0,1), OR(1,1))"
   ]
  },
  {
   "cell_type": "markdown",
   "id": "cf9cd490",
   "metadata": {},
   "source": [
    "## NAND gate 연산이 필요한 이유.\n",
    "XOR 게이트의 그래프를 OR 그래프와 같이 직선으로 분할할 수 없다. XOR 게이트의 그래프를 분할하기 위해서는 곡선 그래프어야 한다. 따라서 단층 퍼셉트론으로 구현하는 것에 한계가 있기에, XOR 게이트의 연산을 위하여 NAND 게이트를 구현한다."
   ]
  },
  {
   "cell_type": "code",
   "execution_count": 140,
   "id": "8913bf03",
   "metadata": {
    "scrolled": true
   },
   "outputs": [
    {
     "name": "stdout",
     "output_type": "stream",
     "text": [
      "< NAND gate results >\n",
      "최종 가중치\n",
      "0.1\n",
      "최종 가중치\n",
      "-0.4\n",
      "최종 가중치\n",
      "-0.4\n",
      "최종 가중치\n",
      "-0.9\n",
      "1 0 0 0\n"
     ]
    }
   ],
   "source": [
    "def NAND(x1, x2):\n",
    "    #가중치와 편향을 반대로 하여 값을 구한다.\n",
    "    x = np.array([x1,x2])\n",
    "    w = np.array([-0.5,-0.5])\n",
    "    b = 0.1\n",
    "    \n",
    "    #출력값 y\n",
    "    y = np.sum(w*x) + b\n",
    "    \n",
    "    print (\"최종 가중치\")\n",
    "    print (y)\n",
    "    return int(y>0)\n",
    "\n",
    "print(\"< NAND gate results >\")\n",
    "print(NAND(0,0), NAND(1,0), NAND(0,1), NAND(1,1))"
   ]
  },
  {
   "cell_type": "markdown",
   "id": "3a47d71e",
   "metadata": {},
   "source": [
    "## XOR 연산을 위해 단층 퍼셉트론을 층으로 쌓아 연산한다."
   ]
  },
  {
   "cell_type": "code",
   "execution_count": 141,
   "id": "f345838a",
   "metadata": {
    "scrolled": true
   },
   "outputs": [
    {
     "name": "stdout",
     "output_type": "stream",
     "text": [
      "< XOR gate results >\n",
      "최종 가중치\n",
      "0.1\n",
      "최종 가중치\n",
      "0.4\n",
      "최종 가중치\n",
      "0.9\n",
      "-XOR 연산의 최종 가중치-\n",
      "1\n",
      "최종 가중치\n",
      "-0.4\n",
      "최종 가중치\n",
      "0.9\n",
      "최종 가중치\n",
      "0.4\n",
      "-XOR 연산의 최종 가중치-\n",
      "1\n",
      "최종 가중치\n",
      "-0.4\n",
      "최종 가중치\n",
      "0.9\n",
      "최종 가중치\n",
      "0.4\n",
      "-XOR 연산의 최종 가중치-\n",
      "1\n",
      "최종 가중치\n",
      "-0.9\n",
      "최종 가중치\n",
      "1.4\n",
      "최종 가중치\n",
      "0.4\n",
      "-XOR 연산의 최종 가중치-\n",
      "1\n",
      "1 1 1 1\n"
     ]
    }
   ],
   "source": [
    "def XOR(x1, x2):\n",
    "    s1 = NAND(x1, x2)\n",
    "    s2 = OR(x1, x2)\n",
    "    \n",
    "    #출력값 z\n",
    "    z = AND(s1,s2)\n",
    "    \n",
    "    print (\"-XOR 연산의 최종 가중치-\")\n",
    "    print (z)\n",
    "    return z\n",
    "\n",
    "print(\"< XOR gate results >\")\n",
    "print(XOR(0,0), XOR(1,0), XOR(0,1), XOR(1,1))"
   ]
  }
 ],
 "metadata": {
  "kernelspec": {
   "display_name": "Python 3 (ipykernel)",
   "language": "python",
   "name": "python3"
  },
  "language_info": {
   "codemirror_mode": {
    "name": "ipython",
    "version": 3
   },
   "file_extension": ".py",
   "mimetype": "text/x-python",
   "name": "python",
   "nbconvert_exporter": "python",
   "pygments_lexer": "ipython3",
   "version": "3.9.12"
  }
 },
 "nbformat": 4,
 "nbformat_minor": 5
}
